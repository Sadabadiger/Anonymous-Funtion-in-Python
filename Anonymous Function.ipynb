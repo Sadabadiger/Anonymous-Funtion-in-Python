{
 "cells": [
  {
   "cell_type": "markdown",
   "metadata": {},
   "source": [
    "   # Anonymous Functions or Lambdas \n",
    "   - A function without name is called Anonymous function\n",
    "   - So for the function we have writeen were defined using the keyword **'def'**\n",
    "   - Anonymous functions are not going to write using def\n",
    "   - They are defined using Lambda and hence they are called **Lambda Functions** \n",
    "   - Syntax of Lambda function \n",
    "    \n",
    "    \n",
    "   **lambda arguments: expression**"
   ]
  },
  {
   "cell_type": "code",
   "execution_count": 4,
   "metadata": {},
   "outputs": [],
   "source": [
    "# A Python program to create a lambda functions that returns a square value of a given number\n"
   ]
  },
  {
   "cell_type": "code",
   "execution_count": null,
   "metadata": {},
   "outputs": [],
   "source": [
    "# A lambda function to calculate the sum of two numbers\n"
   ]
  },
  {
   "cell_type": "markdown",
   "metadata": {},
   "source": [
    "# Using Lambdas with Filter() function\n",
    "- The filter function is useful to filter out the elements of a sequences depending on the result of function \n",
    "- We should supply a function and a sequence to the filter() function\n",
    "- Syntax of the filter function is **filter(function,sequence)**"
   ]
  },
  {
   "cell_type": "code",
   "execution_count": 19,
   "metadata": {},
   "outputs": [
    {
     "name": "stdout",
     "output_type": "stream",
     "text": [
      "[10, 24, 46, 32, 88]\n"
     ]
    }
   ],
   "source": [
    "# A Python program using filter() to filter out even numbers from a list\n",
    "\n",
    "def even_number(x):\n",
    "    if x%2==0:\n",
    "        return True\n",
    "    else:\n",
    "        return False\n",
    "\n",
    "#Lets take a list of numbers\n",
    "lst=[10,23,31,24,46,61,32,88]\n",
    "\n",
    "#Call filter() with even_number and lst\n",
    "lst1=list(filter(even_number,lst))\n",
    "print(lst1)"
   ]
  },
  {
   "cell_type": "code",
   "execution_count": 2,
   "metadata": {},
   "outputs": [
    {
     "name": "stdout",
     "output_type": "stream",
     "text": [
      "[10, 24, 46, 32, 88]\n"
     ]
    }
   ],
   "source": [
    "# Passing lambda function to filter() is more elegant. We will re write the program using lambda function\n",
    "lst=[10,23,31,24,46,61,32,88]\n",
    "\n",
    "#Call filter() with lambda function\n",
    "lst1=list(filter(lambda x: (x%2==0),lst))\n",
    "print(lst1)"
   ]
  },
  {
   "cell_type": "markdown",
   "metadata": {},
   "source": [
    "# Using Lambdas with map() Function\n",
    "- The map() function is similer to filter function but it acts on each elements of the sequence and perhaps changes the elements\n",
    "- The format of map() function is **map(Function, Sequence)**"
   ]
  },
  {
   "cell_type": "code",
   "execution_count": 23,
   "metadata": {},
   "outputs": [
    {
     "name": "stdout",
     "output_type": "stream",
     "text": [
      "[1, 4, 9, 16, 25]\n"
     ]
    }
   ],
   "source": [
    "# A Python program to find square of element in a list\n",
    "def square(x):\n",
    "    return x*x\n",
    "# Lets Ttake list of numbers\n",
    "lst=[1,2,3,4,5]\n",
    "lst1=list(map(square,lst))\n",
    "print(lst1)"
   ]
  },
  {
   "cell_type": "code",
   "execution_count": 1,
   "metadata": {},
   "outputs": [
    {
     "name": "stdout",
     "output_type": "stream",
     "text": [
      "[1, 4, 9, 16, 25]\n"
     ]
    }
   ],
   "source": [
    "# A Python program to find square of elements using map() and lambda function\n",
    "lst=[1,2,3,4,5]\n",
    "lst1=list(map(lambda x:x*x,lst))\n",
    "print(lst1)"
   ]
  },
  {
   "cell_type": "code",
   "execution_count": 28,
   "metadata": {},
   "outputs": [
    {
     "name": "stdout",
     "output_type": "stream",
     "text": [
      "[6, 14, 24, 36, 0]\n"
     ]
    }
   ],
   "source": [
    "# A Python program to find the product of elements of two different lists usning lambda function\n",
    "lst1=[1,2,3,4,5]\n",
    "lst2=[6,7,8,9,0]\n",
    "lst=list(map(lambda x,y:x*y, lst1, lst2))\n",
    "print(lst)"
   ]
  },
  {
   "cell_type": "markdown",
   "metadata": {},
   "source": [
    "# Using Lambdas with reduce() function\n",
    "- The reduce() function reduces a sequence of elements to a single value by processing the elements according to a function supplied. \n",
    "- The format of reduce function is **reduce(Function,Sequence)**"
   ]
  },
  {
   "cell_type": "code",
   "execution_count": 3,
   "metadata": {},
   "outputs": [
    {
     "name": "stdout",
     "output_type": "stream",
     "text": [
      "15\n"
     ]
    }
   ],
   "source": [
    "# A Lambda function to calculate products of elements of list\n",
    "from functools import*\n",
    "lst=[1,2,3,4,5]\n",
    "lst1=reduce(lambda x,y:x+y,lst)\n",
    "print(lst1)"
   ]
  },
  {
   "cell_type": "markdown",
   "metadata": {},
   "source": [
    "# Function Decorator \n",
    "- A Decorator is a function that accepts a function as parameter and return a function\n",
    "- A decorator takes the result of a function, modifies the result and return it\n",
    "- Decorator are useful to perform some additional processing required by a function "
   ]
  },
  {
   "cell_type": "code",
   "execution_count": 5,
   "metadata": {},
   "outputs": [
    {
     "name": "stdout",
     "output_type": "stream",
     "text": [
      "22\n"
     ]
    }
   ],
   "source": [
    "# A decorator to increase the value of a function by 2\n",
    "def decor(fun): #This is decorate function\n",
    "    def inner():  # This is the inner function that modifies\n",
    "        value=fun() \n",
    "        return value+2\n",
    "    return inner # Return inner function\n",
    "#Take a function to which decorator shoul be applied\n",
    "def num():\n",
    "    return 20\n",
    "#Call the decorate function and pass num\n",
    "result_fun=decor(num) #result_fun is inner function\n",
    "print(result_fun()) # call result_fun and display the result"
   ]
  },
  {
   "cell_type": "markdown",
   "metadata": {},
   "source": [
    "- To apply the decorator to any function, we can use the '@' symbol and decorate name just above the function definition "
   ]
  },
  {
   "cell_type": "code",
   "execution_count": 13,
   "metadata": {},
   "outputs": [
    {
     "name": "stdout",
     "output_type": "stream",
     "text": [
      "12\n"
     ]
    }
   ],
   "source": [
    "# A decorator to increase the value of a function by 2\n",
    "def decor(fun): #This is decorate function\n",
    "    def inner():  # This is the inner function that modifies\n",
    "        value=fun() \n",
    "        return value+2\n",
    "    return inner # Return inner function\n",
    "#Take a function to which decorator shoul be applied\n",
    "@decor\n",
    "def num():\n",
    "    return 10\n",
    "#Call the decorate function and display result\n",
    "print(num())\n"
   ]
  },
  {
   "cell_type": "code",
   "execution_count": 14,
   "metadata": {},
   "outputs": [
    {
     "name": "stdout",
     "output_type": "stream",
     "text": [
      "The modified function value is:  22\n"
     ]
    }
   ],
   "source": [
    "#Adding two decorator\n",
    "def decor(fun):\n",
    "    def inner():\n",
    "        value=fun()\n",
    "        return value+2\n",
    "    return inner\n",
    "\n",
    "def decor1(fun):\n",
    "    def inner():\n",
    "        value=fun()\n",
    "        return value*2\n",
    "    return inner\n",
    "\n",
    "@decor\n",
    "@decor1\n",
    "def num():\n",
    "    return 10\n",
    "print(\"The modified function value is: \",num())"
   ]
  },
  {
   "cell_type": "markdown",
   "metadata": {},
   "source": [
    "# Generator \n",
    "- Generators are functions that returns a sequence of values\n",
    "- A generator function is written like an ordinary function but it uses **yield** statement "
   ]
  },
  {
   "cell_type": "code",
   "execution_count": 17,
   "metadata": {},
   "outputs": [
    {
     "name": "stdout",
     "output_type": "stream",
     "text": [
      "5 6 7 8 9 10 "
     ]
    }
   ],
   "source": [
    "# A Python program to create a generator that returns a sequence of numbers from x and y\n",
    "def mygen(x,y):\n",
    "    while x<=y:\n",
    "        yield x\n",
    "        x+=1\n",
    "#fill generator object with 5 and 10\n",
    "g=mygen(5,10)\n",
    "\n",
    "#Display all numbers in the generator\n",
    "for i in g:\n",
    "    print(i,end=' ')"
   ]
  },
  {
   "cell_type": "markdown",
   "metadata": {},
   "source": [
    "# Creating your own modules in Python\n",
    "- In python we have several built-i modules like sys,time,etc.\n",
    "- Just like these module we can also create our own modules and use them whenever we need them\n",
    "- Once a module is created, any programmer in the project team can use that module. Hence modules will make software development easy and faster"
   ]
  },
  {
   "cell_type": "code",
   "execution_count": 3,
   "metadata": {},
   "outputs": [
    {
     "name": "stdout",
     "output_type": "stream",
     "text": [
      "This code is run as a program\n"
     ]
    }
   ],
   "source": [
    "# Creating 'employee' module to get the net and gross salary\n",
    "#Save this code as employee.py\n",
    "\n",
    "def DA(Basic_Salary):\n",
    "    \"\"\" DA is 80% of basic salary\"\"\"\n",
    "    DA=Basic_Salary*80/100\n",
    "    return DA\n",
    "\n",
    "def HRA(Basic_Salary):\n",
    "    \"\"\"HRA is 15% of basic salary\"\"\"\n",
    "    HRA=Basic_Salary*15/100\n",
    "    return HRA\n",
    "\n",
    "def PF(Basic_Salary):\n",
    "    \"\"\"PF is 12% of basic salary\"\"\"\n",
    "    PF=Basic_Salary*12/100\n",
    "    return PF\n",
    "\n",
    "def itax(gross):\n",
    "    \"\"\"tax is calculated at 10% on gross\"\"\"\n",
    "    tax=gross*0.1\n",
    "    return tax"
   ]
  },
  {
   "cell_type": "code",
   "execution_count": 2,
   "metadata": {},
   "outputs": [
    {
     "name": "stdout",
     "output_type": "stream",
     "text": [
      "Enter the basic salary: 12000\n",
      "Your gross salary:   23400.00\n",
      "your net salary:   19620.00\n"
     ]
    }
   ],
   "source": [
    "# A Python program that uses the functions of employee modules and calculates gross and net salary of an employee\n",
    "from employee import*\n",
    "\n",
    "#Calculate gross salary of employee by taking basic\n",
    "basic=int(input(\"Enter the basic salary: \"))\n",
    "\n",
    "#Calculate gross salary\n",
    "gross=basic+DA(basic)+HRA(basic)\n",
    "print(\"Your gross salary: {:10.2f}\".format(gross))\n",
    "\n",
    "#Calculate net salary\n",
    "net= gross-PF(basic)-itax(gross)\n",
    "print(\"your net salary: {:10.2f}\".format(net))"
   ]
  },
  {
   "cell_type": "markdown",
   "metadata": {},
   "source": []
  },
  {
   "cell_type": "code",
   "execution_count": null,
   "metadata": {},
   "outputs": [],
   "source": [
    "import time\n",
    "\n",
    "time.sleep(5)"
   ]
  }
 ],
 "metadata": {
  "kernelspec": {
   "display_name": "Python 3",
   "language": "python",
   "name": "python3"
  },
  "language_info": {
   "codemirror_mode": {
    "name": "ipython",
    "version": 3
   },
   "file_extension": ".py",
   "mimetype": "text/x-python",
   "name": "python",
   "nbconvert_exporter": "python",
   "pygments_lexer": "ipython3",
   "version": "3.7.6"
  }
 },
 "nbformat": 4,
 "nbformat_minor": 4
}
